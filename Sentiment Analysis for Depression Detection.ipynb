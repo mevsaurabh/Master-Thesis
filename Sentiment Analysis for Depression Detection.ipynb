{
 "cells": [
  {
   "cell_type": "code",
   "execution_count": 62,
   "id": "a1e2792b",
   "metadata": {},
   "outputs": [],
   "source": [
    "import numpy as np\n",
    "import pandas as pd\n",
    "import re #regular expression\n",
    "from nltk.corpus import stopwords\n",
    "from sklearn.metrics import roc_curve, auc\n",
    "from nltk.stem.porter import PorterStemmer\n",
    "from sklearn.feature_extraction.text import TfidfVectorizer\n",
    "from sklearn.model_selection import train_test_split\n",
    "from sklearn.linear_model import LogisticRegression\n",
    "from nltk.stem import WordNetLemmatizer \n",
    "from sklearn.metrics import classification_report, f1_score, accuracy_score, recall_score, precision_score, confusion_matrix\n",
    "from mlxtend.plotting import plot_confusion_matrix\n",
    "import matplotlib.pyplot as plt\n",
    "from wordcloud import WordCloud\n",
    "import warnings\n",
    "warnings.filterwarnings('ignore')"
   ]
  },
  {
   "cell_type": "code",
   "execution_count": 63,
   "id": "b6738fa6",
   "metadata": {},
   "outputs": [],
   "source": [
    "#Loading the dataset and naming coluns\n",
    "columns = [\"target\", \"ids\", \"date\", \"flag\", \"user\", \"text\"]\n",
    "df = pd.read_csv('training.1600000.processed.noemoticon.csv', encoding='ISO-8859-1', header=None, names=columns)"
   ]
  },
  {
   "cell_type": "markdown",
   "id": "9414c42b",
   "metadata": {},
   "source": [
    "# Exploratory data analysis "
   ]
  },
  {
   "cell_type": "code",
   "execution_count": 64,
   "id": "8b4aa3a6",
   "metadata": {},
   "outputs": [
    {
     "data": {
      "text/html": [
       "<div>\n",
       "<style scoped>\n",
       "    .dataframe tbody tr th:only-of-type {\n",
       "        vertical-align: middle;\n",
       "    }\n",
       "\n",
       "    .dataframe tbody tr th {\n",
       "        vertical-align: top;\n",
       "    }\n",
       "\n",
       "    .dataframe thead th {\n",
       "        text-align: right;\n",
       "    }\n",
       "</style>\n",
       "<table border=\"1\" class=\"dataframe\">\n",
       "  <thead>\n",
       "    <tr style=\"text-align: right;\">\n",
       "      <th></th>\n",
       "      <th>target</th>\n",
       "      <th>ids</th>\n",
       "      <th>date</th>\n",
       "      <th>flag</th>\n",
       "      <th>user</th>\n",
       "      <th>text</th>\n",
       "    </tr>\n",
       "  </thead>\n",
       "  <tbody>\n",
       "    <tr>\n",
       "      <th>0</th>\n",
       "      <td>0</td>\n",
       "      <td>1467810369</td>\n",
       "      <td>Mon Apr 06 22:19:45 PDT 2009</td>\n",
       "      <td>NO_QUERY</td>\n",
       "      <td>_TheSpecialOne_</td>\n",
       "      <td>@switchfoot http://twitpic.com/2y1zl - Awww, t...</td>\n",
       "    </tr>\n",
       "    <tr>\n",
       "      <th>1</th>\n",
       "      <td>0</td>\n",
       "      <td>1467810672</td>\n",
       "      <td>Mon Apr 06 22:19:49 PDT 2009</td>\n",
       "      <td>NO_QUERY</td>\n",
       "      <td>scotthamilton</td>\n",
       "      <td>is upset that he can't update his Facebook by ...</td>\n",
       "    </tr>\n",
       "    <tr>\n",
       "      <th>2</th>\n",
       "      <td>0</td>\n",
       "      <td>1467810917</td>\n",
       "      <td>Mon Apr 06 22:19:53 PDT 2009</td>\n",
       "      <td>NO_QUERY</td>\n",
       "      <td>mattycus</td>\n",
       "      <td>@Kenichan I dived many times for the ball. Man...</td>\n",
       "    </tr>\n",
       "    <tr>\n",
       "      <th>3</th>\n",
       "      <td>0</td>\n",
       "      <td>1467811184</td>\n",
       "      <td>Mon Apr 06 22:19:57 PDT 2009</td>\n",
       "      <td>NO_QUERY</td>\n",
       "      <td>ElleCTF</td>\n",
       "      <td>my whole body feels itchy and like its on fire</td>\n",
       "    </tr>\n",
       "    <tr>\n",
       "      <th>4</th>\n",
       "      <td>0</td>\n",
       "      <td>1467811193</td>\n",
       "      <td>Mon Apr 06 22:19:57 PDT 2009</td>\n",
       "      <td>NO_QUERY</td>\n",
       "      <td>Karoli</td>\n",
       "      <td>@nationwideclass no, it's not behaving at all....</td>\n",
       "    </tr>\n",
       "  </tbody>\n",
       "</table>\n",
       "</div>"
      ],
      "text/plain": [
       "   target         ids                          date      flag  \\\n",
       "0       0  1467810369  Mon Apr 06 22:19:45 PDT 2009  NO_QUERY   \n",
       "1       0  1467810672  Mon Apr 06 22:19:49 PDT 2009  NO_QUERY   \n",
       "2       0  1467810917  Mon Apr 06 22:19:53 PDT 2009  NO_QUERY   \n",
       "3       0  1467811184  Mon Apr 06 22:19:57 PDT 2009  NO_QUERY   \n",
       "4       0  1467811193  Mon Apr 06 22:19:57 PDT 2009  NO_QUERY   \n",
       "\n",
       "              user                                               text  \n",
       "0  _TheSpecialOne_  @switchfoot http://twitpic.com/2y1zl - Awww, t...  \n",
       "1    scotthamilton  is upset that he can't update his Facebook by ...  \n",
       "2         mattycus  @Kenichan I dived many times for the ball. Man...  \n",
       "3          ElleCTF    my whole body feels itchy and like its on fire   \n",
       "4           Karoli  @nationwideclass no, it's not behaving at all....  "
      ]
     },
     "execution_count": 64,
     "metadata": {},
     "output_type": "execute_result"
    }
   ],
   "source": [
    "df.head()"
   ]
  },
  {
   "cell_type": "code",
   "execution_count": 66,
   "id": "f4043d58",
   "metadata": {},
   "outputs": [
    {
     "data": {
      "text/html": [
       "<div>\n",
       "<style scoped>\n",
       "    .dataframe tbody tr th:only-of-type {\n",
       "        vertical-align: middle;\n",
       "    }\n",
       "\n",
       "    .dataframe tbody tr th {\n",
       "        vertical-align: top;\n",
       "    }\n",
       "\n",
       "    .dataframe thead th {\n",
       "        text-align: right;\n",
       "    }\n",
       "</style>\n",
       "<table border=\"1\" class=\"dataframe\">\n",
       "  <thead>\n",
       "    <tr style=\"text-align: right;\">\n",
       "      <th></th>\n",
       "      <th>target</th>\n",
       "      <th>ids</th>\n",
       "      <th>date</th>\n",
       "      <th>flag</th>\n",
       "      <th>user</th>\n",
       "      <th>text</th>\n",
       "    </tr>\n",
       "  </thead>\n",
       "  <tbody>\n",
       "    <tr>\n",
       "      <th>1599995</th>\n",
       "      <td>4</td>\n",
       "      <td>2193601966</td>\n",
       "      <td>Tue Jun 16 08:40:49 PDT 2009</td>\n",
       "      <td>NO_QUERY</td>\n",
       "      <td>AmandaMarie1028</td>\n",
       "      <td>Just woke up. Having no school is the best fee...</td>\n",
       "    </tr>\n",
       "    <tr>\n",
       "      <th>1599996</th>\n",
       "      <td>4</td>\n",
       "      <td>2193601969</td>\n",
       "      <td>Tue Jun 16 08:40:49 PDT 2009</td>\n",
       "      <td>NO_QUERY</td>\n",
       "      <td>TheWDBoards</td>\n",
       "      <td>TheWDB.com - Very cool to hear old Walt interv...</td>\n",
       "    </tr>\n",
       "    <tr>\n",
       "      <th>1599997</th>\n",
       "      <td>4</td>\n",
       "      <td>2193601991</td>\n",
       "      <td>Tue Jun 16 08:40:49 PDT 2009</td>\n",
       "      <td>NO_QUERY</td>\n",
       "      <td>bpbabe</td>\n",
       "      <td>Are you ready for your MoJo Makeover? Ask me f...</td>\n",
       "    </tr>\n",
       "    <tr>\n",
       "      <th>1599998</th>\n",
       "      <td>4</td>\n",
       "      <td>2193602064</td>\n",
       "      <td>Tue Jun 16 08:40:49 PDT 2009</td>\n",
       "      <td>NO_QUERY</td>\n",
       "      <td>tinydiamondz</td>\n",
       "      <td>Happy 38th Birthday to my boo of alll time!!! ...</td>\n",
       "    </tr>\n",
       "    <tr>\n",
       "      <th>1599999</th>\n",
       "      <td>4</td>\n",
       "      <td>2193602129</td>\n",
       "      <td>Tue Jun 16 08:40:50 PDT 2009</td>\n",
       "      <td>NO_QUERY</td>\n",
       "      <td>RyanTrevMorris</td>\n",
       "      <td>happy #charitytuesday @theNSPCC @SparksCharity...</td>\n",
       "    </tr>\n",
       "  </tbody>\n",
       "</table>\n",
       "</div>"
      ],
      "text/plain": [
       "         target         ids                          date      flag  \\\n",
       "1599995       4  2193601966  Tue Jun 16 08:40:49 PDT 2009  NO_QUERY   \n",
       "1599996       4  2193601969  Tue Jun 16 08:40:49 PDT 2009  NO_QUERY   \n",
       "1599997       4  2193601991  Tue Jun 16 08:40:49 PDT 2009  NO_QUERY   \n",
       "1599998       4  2193602064  Tue Jun 16 08:40:49 PDT 2009  NO_QUERY   \n",
       "1599999       4  2193602129  Tue Jun 16 08:40:50 PDT 2009  NO_QUERY   \n",
       "\n",
       "                    user                                               text  \n",
       "1599995  AmandaMarie1028  Just woke up. Having no school is the best fee...  \n",
       "1599996      TheWDBoards  TheWDB.com - Very cool to hear old Walt interv...  \n",
       "1599997           bpbabe  Are you ready for your MoJo Makeover? Ask me f...  \n",
       "1599998     tinydiamondz  Happy 38th Birthday to my boo of alll time!!! ...  \n",
       "1599999   RyanTrevMorris  happy #charitytuesday @theNSPCC @SparksCharity...  "
      ]
     },
     "execution_count": 66,
     "metadata": {},
     "output_type": "execute_result"
    }
   ],
   "source": [
    "df.tail()"
   ]
  },
  {
   "cell_type": "code",
   "execution_count": 67,
   "id": "1c698cea",
   "metadata": {},
   "outputs": [
    {
     "data": {
      "text/plain": [
       "(1600000, 6)"
      ]
     },
     "execution_count": 67,
     "metadata": {},
     "output_type": "execute_result"
    }
   ],
   "source": [
    "df.shape"
   ]
  },
  {
   "cell_type": "code",
   "execution_count": 8,
   "id": "cfaf86fb",
   "metadata": {},
   "outputs": [
    {
     "name": "stdout",
     "output_type": "stream",
     "text": [
      "<class 'pandas.core.frame.DataFrame'>\n",
      "RangeIndex: 1600000 entries, 0 to 1599999\n",
      "Data columns (total 6 columns):\n",
      " #   Column  Non-Null Count    Dtype \n",
      "---  ------  --------------    ----- \n",
      " 0   target  1600000 non-null  int64 \n",
      " 1   ids     1600000 non-null  int64 \n",
      " 2   date    1600000 non-null  object\n",
      " 3   flag    1600000 non-null  object\n",
      " 4   user    1600000 non-null  object\n",
      " 5   text    1600000 non-null  object\n",
      "dtypes: int64(2), object(4)\n",
      "memory usage: 73.2+ MB\n"
     ]
    }
   ],
   "source": [
    "df.info()"
   ]
  },
  {
   "cell_type": "code",
   "execution_count": 70,
   "id": "c5bcf98d",
   "metadata": {},
   "outputs": [
    {
     "data": {
      "text/plain": [
       "target     int64\n",
       "ids        int64\n",
       "date      object\n",
       "flag      object\n",
       "user      object\n",
       "text      object\n",
       "dtype: object"
      ]
     },
     "execution_count": 70,
     "metadata": {},
     "output_type": "execute_result"
    }
   ],
   "source": [
    "df.dtypes"
   ]
  },
  {
   "cell_type": "code",
   "execution_count": 9,
   "id": "75335ccf",
   "metadata": {},
   "outputs": [
    {
     "data": {
      "text/plain": [
       "target    0\n",
       "ids       0\n",
       "date      0\n",
       "flag      0\n",
       "user      0\n",
       "text      0\n",
       "dtype: int64"
      ]
     },
     "execution_count": 9,
     "metadata": {},
     "output_type": "execute_result"
    }
   ],
   "source": [
    "#checking for missing values\n",
    "df.isnull().sum()"
   ]
  },
  {
   "cell_type": "code",
   "execution_count": 71,
   "id": "ff2faa46",
   "metadata": {},
   "outputs": [
    {
     "name": "stdout",
     "output_type": "stream",
     "text": [
      "Count of columns in the data is:   6\n"
     ]
    }
   ],
   "source": [
    "print('Count of columns in the data is:  ', len(df.columns))"
   ]
  },
  {
   "cell_type": "code",
   "execution_count": 72,
   "id": "ef4eb9f1",
   "metadata": {},
   "outputs": [
    {
     "name": "stdout",
     "output_type": "stream",
     "text": [
      "Count of rows in the data is:   1600000\n"
     ]
    }
   ],
   "source": [
    "print('Count of rows in the data is:  ', len(df))"
   ]
  },
  {
   "cell_type": "code",
   "execution_count": 10,
   "id": "510884ef",
   "metadata": {},
   "outputs": [
    {
     "data": {
      "text/plain": [
       "target\n",
       "0    800000\n",
       "4    800000\n",
       "Name: count, dtype: int64"
      ]
     },
     "execution_count": 10,
     "metadata": {},
     "output_type": "execute_result"
    }
   ],
   "source": [
    "#checking distribution of target column\n",
    "\n",
    "df['target'].value_counts()"
   ]
  },
  {
   "cell_type": "code",
   "execution_count": 11,
   "id": "53033999",
   "metadata": {},
   "outputs": [],
   "source": [
    "#Converting Target values from 4 TO 1\n",
    "df.replace({'target':{4:1}}, inplace=True)"
   ]
  },
  {
   "cell_type": "code",
   "execution_count": 12,
   "id": "0e3af092",
   "metadata": {},
   "outputs": [
    {
     "data": {
      "text/html": [
       "<div>\n",
       "<style scoped>\n",
       "    .dataframe tbody tr th:only-of-type {\n",
       "        vertical-align: middle;\n",
       "    }\n",
       "\n",
       "    .dataframe tbody tr th {\n",
       "        vertical-align: top;\n",
       "    }\n",
       "\n",
       "    .dataframe thead th {\n",
       "        text-align: right;\n",
       "    }\n",
       "</style>\n",
       "<table border=\"1\" class=\"dataframe\">\n",
       "  <thead>\n",
       "    <tr style=\"text-align: right;\">\n",
       "      <th></th>\n",
       "      <th>sentiment</th>\n",
       "      <th>tweet</th>\n",
       "    </tr>\n",
       "  </thead>\n",
       "  <tbody>\n",
       "    <tr>\n",
       "      <th>0</th>\n",
       "      <td>0</td>\n",
       "      <td>@switchfoot http://twitpic.com/2y1zl - Awww, t...</td>\n",
       "    </tr>\n",
       "    <tr>\n",
       "      <th>1</th>\n",
       "      <td>0</td>\n",
       "      <td>is upset that he can't update his Facebook by ...</td>\n",
       "    </tr>\n",
       "    <tr>\n",
       "      <th>2</th>\n",
       "      <td>0</td>\n",
       "      <td>@Kenichan I dived many times for the ball. Man...</td>\n",
       "    </tr>\n",
       "    <tr>\n",
       "      <th>3</th>\n",
       "      <td>0</td>\n",
       "      <td>my whole body feels itchy and like its on fire</td>\n",
       "    </tr>\n",
       "    <tr>\n",
       "      <th>4</th>\n",
       "      <td>0</td>\n",
       "      <td>@nationwideclass no, it's not behaving at all....</td>\n",
       "    </tr>\n",
       "  </tbody>\n",
       "</table>\n",
       "</div>"
      ],
      "text/plain": [
       "   sentiment                                              tweet\n",
       "0          0  @switchfoot http://twitpic.com/2y1zl - Awww, t...\n",
       "1          0  is upset that he can't update his Facebook by ...\n",
       "2          0  @Kenichan I dived many times for the ball. Man...\n",
       "3          0    my whole body feels itchy and like its on fire \n",
       "4          0  @nationwideclass no, it's not behaving at all...."
      ]
     },
     "execution_count": 12,
     "metadata": {},
     "output_type": "execute_result"
    }
   ],
   "source": [
    "df.drop(columns=['ids','date','flag','user'],axis=1,inplace=True)\n",
    "df.columns.values[0] = 'sentiment'\n",
    "df.columns.values[1] = 'tweet'\n",
    "df.head()"
   ]
  },
  {
   "cell_type": "code",
   "execution_count": 13,
   "id": "c0d45547",
   "metadata": {},
   "outputs": [],
   "source": [
    "#Data preprocessing\n",
    "df['tweet'] = df['tweet'].apply(lambda x: re.sub(r'http\\S+', '', x))  # Remove URLs\n",
    "df['tweet'] = df['tweet'].apply(lambda x: re.sub(r'@[^\\s]+', '', x))  # Remove user mentions\n",
    "df['tweet'] = df['tweet'].apply(lambda x: re.sub(r'[^a-zA-Z\\s]', '', x))  # Remove non-alphabetic characters"
   ]
  },
  {
   "cell_type": "code",
   "execution_count": 14,
   "id": "677fa5cf",
   "metadata": {},
   "outputs": [],
   "source": [
    "#Convert text to lowercase\n",
    "df['tweet'] = df['tweet'].str.lower()"
   ]
  },
  {
   "cell_type": "code",
   "execution_count": 15,
   "id": "30bc6a33",
   "metadata": {},
   "outputs": [],
   "source": [
    "df['tweet'] = df['tweet'].apply(lambda x: re.sub(r'\\b\\d+\\b', '', x))  # Remove numbers"
   ]
  },
  {
   "cell_type": "code",
   "execution_count": 16,
   "id": "cb797598",
   "metadata": {},
   "outputs": [
    {
     "data": {
      "text/html": [
       "<div>\n",
       "<style scoped>\n",
       "    .dataframe tbody tr th:only-of-type {\n",
       "        vertical-align: middle;\n",
       "    }\n",
       "\n",
       "    .dataframe tbody tr th {\n",
       "        vertical-align: top;\n",
       "    }\n",
       "\n",
       "    .dataframe thead th {\n",
       "        text-align: right;\n",
       "    }\n",
       "</style>\n",
       "<table border=\"1\" class=\"dataframe\">\n",
       "  <thead>\n",
       "    <tr style=\"text-align: right;\">\n",
       "      <th></th>\n",
       "      <th>sentiment</th>\n",
       "      <th>tweet</th>\n",
       "    </tr>\n",
       "  </thead>\n",
       "  <tbody>\n",
       "    <tr>\n",
       "      <th>0</th>\n",
       "      <td>0</td>\n",
       "      <td>awww thats a bummer  you shoulda got david ...</td>\n",
       "    </tr>\n",
       "    <tr>\n",
       "      <th>1</th>\n",
       "      <td>0</td>\n",
       "      <td>is upset that he cant update his facebook by t...</td>\n",
       "    </tr>\n",
       "    <tr>\n",
       "      <th>2</th>\n",
       "      <td>0</td>\n",
       "      <td>i dived many times for the ball managed to sa...</td>\n",
       "    </tr>\n",
       "    <tr>\n",
       "      <th>3</th>\n",
       "      <td>0</td>\n",
       "      <td>my whole body feels itchy and like its on fire</td>\n",
       "    </tr>\n",
       "    <tr>\n",
       "      <th>4</th>\n",
       "      <td>0</td>\n",
       "      <td>no its not behaving at all im mad why am i he...</td>\n",
       "    </tr>\n",
       "  </tbody>\n",
       "</table>\n",
       "</div>"
      ],
      "text/plain": [
       "   sentiment                                              tweet\n",
       "0          0     awww thats a bummer  you shoulda got david ...\n",
       "1          0  is upset that he cant update his facebook by t...\n",
       "2          0   i dived many times for the ball managed to sa...\n",
       "3          0    my whole body feels itchy and like its on fire \n",
       "4          0   no its not behaving at all im mad why am i he..."
      ]
     },
     "execution_count": 16,
     "metadata": {},
     "output_type": "execute_result"
    }
   ],
   "source": [
    "df.head()"
   ]
  },
  {
   "cell_type": "code",
   "execution_count": 17,
   "id": "28867a1f",
   "metadata": {},
   "outputs": [],
   "source": [
    "from nltk.tokenize import word_tokenize\n",
    "# Load NLTK stopwords\n",
    "stop_words = set(stopwords.words('english'))\n",
    "# Removing stopwords from a text\n",
    "def remove_stopwords(tweet):\n",
    "    words = word_tokenize(tweet)\n",
    "    filtered_words = [word for word in words if word.lower() not in stop_words]\n",
    "    return ' '.join(filtered_words)\n",
    "\n",
    "# Apply the remove_stopwords function to the 'tweet' column\n",
    "df['tweet'] = df['tweet'].apply(remove_stopwords)"
   ]
  },
  {
   "cell_type": "code",
   "execution_count": 18,
   "id": "9e9188dc",
   "metadata": {},
   "outputs": [],
   "source": [
    "# Load NLTK stopwords\n",
    "stop_words = set(stopwords.words('english'))\n",
    "\n",
    "# Initialize the Porter Stemmer\n",
    "stemmer = PorterStemmer()\n",
    "\n",
    "# Define a function to tokenize, remove stopwords, and perform stemming on a tweet\n",
    "def process_tweet(tweet):\n",
    "    # Remove URLs and user mentions\n",
    "    tweet = re.sub(r'http\\S+|@[^\\s]+', '', tweet)\n",
    "    \n",
    "    # Tokenize the tweet\n",
    "    words = word_tokenize(tweet)\n",
    "    \n",
    "    # Remove stopwords\n",
    "    filtered_words = [word for word in words if word.lower() not in stop_words]\n",
    "    \n",
    "    # Perform stemming\n",
    "    stemmed_words = [stemmer.stem(word) for word in filtered_words]\n",
    "    \n",
    "    return stemmed_words\n",
    "\n",
    "# Apply the process_tweet function to the 'tweet' column\n",
    "df['tokenized_and_stemmed_tweet'] = df['tweet'].apply(process_tweet)\n",
    "df.drop(columns=['tokenized_and_stemmed_tweet'], inplace=True)"
   ]
  },
  {
   "cell_type": "code",
   "execution_count": 28,
   "id": "18aee283",
   "metadata": {},
   "outputs": [
    {
     "data": {
      "text/html": [
       "<div>\n",
       "<style scoped>\n",
       "    .dataframe tbody tr th:only-of-type {\n",
       "        vertical-align: middle;\n",
       "    }\n",
       "\n",
       "    .dataframe tbody tr th {\n",
       "        vertical-align: top;\n",
       "    }\n",
       "\n",
       "    .dataframe thead th {\n",
       "        text-align: right;\n",
       "    }\n",
       "</style>\n",
       "<table border=\"1\" class=\"dataframe\">\n",
       "  <thead>\n",
       "    <tr style=\"text-align: right;\">\n",
       "      <th></th>\n",
       "      <th>sentiment</th>\n",
       "      <th>tweet</th>\n",
       "    </tr>\n",
       "  </thead>\n",
       "  <tbody>\n",
       "    <tr>\n",
       "      <th>0</th>\n",
       "      <td>0</td>\n",
       "      <td>awww thats bummer shoulda got david carr third...</td>\n",
       "    </tr>\n",
       "    <tr>\n",
       "      <th>1</th>\n",
       "      <td>0</td>\n",
       "      <td>upset cant update facebook texting might cry r...</td>\n",
       "    </tr>\n",
       "    <tr>\n",
       "      <th>2</th>\n",
       "      <td>0</td>\n",
       "      <td>dived many times ball managed save rest go bounds</td>\n",
       "    </tr>\n",
       "    <tr>\n",
       "      <th>3</th>\n",
       "      <td>0</td>\n",
       "      <td>whole body feels itchy like fire</td>\n",
       "    </tr>\n",
       "    <tr>\n",
       "      <th>4</th>\n",
       "      <td>0</td>\n",
       "      <td>behaving im mad cant see</td>\n",
       "    </tr>\n",
       "  </tbody>\n",
       "</table>\n",
       "</div>"
      ],
      "text/plain": [
       "   sentiment                                              tweet\n",
       "0          0  awww thats bummer shoulda got david carr third...\n",
       "1          0  upset cant update facebook texting might cry r...\n",
       "2          0  dived many times ball managed save rest go bounds\n",
       "3          0                   whole body feels itchy like fire\n",
       "4          0                           behaving im mad cant see"
      ]
     },
     "execution_count": 28,
     "metadata": {},
     "output_type": "execute_result"
    }
   ],
   "source": [
    "df.head()"
   ]
  },
  {
   "cell_type": "code",
   "execution_count": 29,
   "id": "5bcbc014",
   "metadata": {},
   "outputs": [],
   "source": [
    "X=df['tweet'].values\n",
    "y=df['sentiment'].values"
   ]
  },
  {
   "cell_type": "code",
   "execution_count": 30,
   "id": "32cb6c08",
   "metadata": {},
   "outputs": [],
   "source": [
    "#Spitting data to training and test data\n",
    "X_train, X_test, y_train, y_test = train_test_split(X, y, test_size=0.2, random_state=42)"
   ]
  },
  {
   "cell_type": "code",
   "execution_count": 31,
   "id": "9962578a",
   "metadata": {},
   "outputs": [
    {
     "name": "stdout",
     "output_type": "stream",
     "text": [
      "['ya quotid like palm pre touchstone charger readynow yes sounds good beer ready prelaunch'\n",
      " 'felt earthquake afternoon seems epicenter' 'ruffles shirts like likey'\n",
      " ... 'rather average'\n",
      " 'pickin waitin hurry upi odeeee missed dem table talk nitelol bout fat'\n",
      " 'home studying maths wooot im going fail shit']\n"
     ]
    }
   ],
   "source": [
    "print(X_train)"
   ]
  },
  {
   "cell_type": "code",
   "execution_count": 32,
   "id": "87d2af8e",
   "metadata": {},
   "outputs": [
    {
     "name": "stdout",
     "output_type": "stream",
     "text": [
      "['ahhh hope ok' 'cool tweet apps razr'\n",
      " 'know family drama lamehey next time u hang kim n u guys like sleepover whatever ill call u'\n",
      " ... 'thanks link rad' 'grounded weekend really dont care best show ever'\n",
      " 'uploads gives broken link']\n"
     ]
    }
   ],
   "source": [
    "print(X_test)"
   ]
  },
  {
   "cell_type": "code",
   "execution_count": 33,
   "id": "6ef0f29a",
   "metadata": {},
   "outputs": [
    {
     "name": "stdout",
     "output_type": "stream",
     "text": [
      "(1600000,) (1280000,) (320000,)\n"
     ]
    }
   ],
   "source": [
    "print(X.shape, X_train.shape, X_test.shape)"
   ]
  },
  {
   "cell_type": "code",
   "execution_count": 34,
   "id": "c13fa457",
   "metadata": {},
   "outputs": [
    {
     "data": {
      "text/html": [
       "<div>\n",
       "<style scoped>\n",
       "    .dataframe tbody tr th:only-of-type {\n",
       "        vertical-align: middle;\n",
       "    }\n",
       "\n",
       "    .dataframe tbody tr th {\n",
       "        vertical-align: top;\n",
       "    }\n",
       "\n",
       "    .dataframe thead th {\n",
       "        text-align: right;\n",
       "    }\n",
       "</style>\n",
       "<table border=\"1\" class=\"dataframe\">\n",
       "  <thead>\n",
       "    <tr style=\"text-align: right;\">\n",
       "      <th></th>\n",
       "      <th>sentiment</th>\n",
       "      <th>tweet</th>\n",
       "    </tr>\n",
       "  </thead>\n",
       "  <tbody>\n",
       "    <tr>\n",
       "      <th>0</th>\n",
       "      <td>0</td>\n",
       "      <td>awww thats bummer shoulda got david carr third...</td>\n",
       "    </tr>\n",
       "    <tr>\n",
       "      <th>1</th>\n",
       "      <td>0</td>\n",
       "      <td>upset cant update facebook texting might cry r...</td>\n",
       "    </tr>\n",
       "    <tr>\n",
       "      <th>2</th>\n",
       "      <td>0</td>\n",
       "      <td>dived many times ball managed save rest go bounds</td>\n",
       "    </tr>\n",
       "    <tr>\n",
       "      <th>3</th>\n",
       "      <td>0</td>\n",
       "      <td>whole body feels itchy like fire</td>\n",
       "    </tr>\n",
       "    <tr>\n",
       "      <th>4</th>\n",
       "      <td>0</td>\n",
       "      <td>behaving im mad cant see</td>\n",
       "    </tr>\n",
       "  </tbody>\n",
       "</table>\n",
       "</div>"
      ],
      "text/plain": [
       "   sentiment                                              tweet\n",
       "0          0  awww thats bummer shoulda got david carr third...\n",
       "1          0  upset cant update facebook texting might cry r...\n",
       "2          0  dived many times ball managed save rest go bounds\n",
       "3          0                   whole body feels itchy like fire\n",
       "4          0                           behaving im mad cant see"
      ]
     },
     "execution_count": 34,
     "metadata": {},
     "output_type": "execute_result"
    }
   ],
   "source": [
    "df.head()"
   ]
  },
  {
   "cell_type": "code",
   "execution_count": 35,
   "id": "94be9a59",
   "metadata": {},
   "outputs": [],
   "source": [
    "#feature_extraction(text data to numeric data)\n",
    "\n",
    "vectorizer = TfidfVectorizer()\n",
    "\n",
    "X_train = vectorizer.fit_transform(X_train)\n",
    "X_test = vectorizer.transform(X_test)"
   ]
  },
  {
   "cell_type": "code",
   "execution_count": 36,
   "id": "a74676ce",
   "metadata": {},
   "outputs": [
    {
     "name": "stdout",
     "output_type": "stream",
     "text": [
      "  (0, 235166)\t0.35964102210924837\n",
      "  (0, 253823)\t0.16955962104852562\n",
      "  (0, 27951)\t0.22135987021419296\n",
      "  (0, 117831)\t0.1154625168526158\n",
      "  (0, 287399)\t0.18320421581083393\n",
      "  (0, 356029)\t0.16304374125473287\n",
      "  (0, 253860)\t0.4225771275893855\n",
      "  (0, 50822)\t0.2634945285803247\n",
      "  (0, 316745)\t0.39026860364710153\n",
      "  (0, 234752)\t0.25766496677323697\n",
      "  (0, 221428)\t0.26284387182204494\n",
      "  (0, 169772)\t0.11947906972104297\n",
      "  (0, 245178)\t0.36988419459793875\n",
      "  (0, 353645)\t0.1804188432956967\n",
      "  (1, 91190)\t0.6350072699704031\n",
      "  (1, 271213)\t0.33386641638985104\n",
      "  (1, 4211)\t0.3459298645152091\n",
      "  (1, 85959)\t0.4752578772522855\n",
      "  (1, 100006)\t0.37384684302247984\n",
      "  (2, 169958)\t0.5289897992671001\n",
      "  (2, 275571)\t0.4728760297189555\n",
      "  (2, 263867)\t0.6719589584189485\n",
      "  (2, 169772)\t0.21220087414785244\n",
      "  (3, 312979)\t0.16186217745295556\n",
      "  (3, 347528)\t0.16364078231529966\n",
      "  :\t:\n",
      "  (1279995, 336920)\t0.22780762878716904\n",
      "  (1279996, 176440)\t0.8462994083219723\n",
      "  (1279996, 117831)\t0.5327075290193294\n",
      "  (1279997, 19600)\t0.7976087260474487\n",
      "  (1279997, 253055)\t0.6031751985393347\n",
      "  (1279998, 212152)\t0.4140590619574963\n",
      "  (1279998, 206485)\t0.4055285962021506\n",
      "  (1279998, 228096)\t0.3324694183537467\n",
      "  (1279998, 329308)\t0.310379198411614\n",
      "  (1279998, 73983)\t0.2965174342594324\n",
      "  (1279998, 336135)\t0.2720984106810843\n",
      "  (1279998, 300784)\t0.2550838472900849\n",
      "  (1279998, 139948)\t0.2550838472900849\n",
      "  (1279998, 98612)\t0.2347165662938473\n",
      "  (1279998, 190611)\t0.17796460553124374\n",
      "  (1279998, 301475)\t0.1867649235406687\n",
      "  (1279998, 37705)\t0.2085435535677573\n",
      "  (1279999, 347187)\t0.5647720450217112\n",
      "  (1279999, 294644)\t0.3698375553471216\n",
      "  (1279999, 182835)\t0.4071332162780527\n",
      "  (1279999, 96918)\t0.36553958102981376\n",
      "  (1279999, 135106)\t0.2434639981944987\n",
      "  (1279999, 117285)\t0.21822560934483692\n",
      "  (1279999, 275611)\t0.3311840006716583\n",
      "  (1279999, 143034)\t0.1682144507134693\n"
     ]
    }
   ],
   "source": [
    "print(X_train)"
   ]
  },
  {
   "cell_type": "code",
   "execution_count": 37,
   "id": "25511007",
   "metadata": {},
   "outputs": [
    {
     "name": "stdout",
     "output_type": "stream",
     "text": [
      "  (0, 213706)\t0.535851897571431\n",
      "  (0, 136504)\t0.4618358799730387\n",
      "  (0, 5679)\t0.7068029172539015\n",
      "  (1, 321474)\t0.3480985470008525\n",
      "  (1, 253396)\t0.7231318827132631\n",
      "  (1, 62131)\t0.3327049903120177\n",
      "  (1, 14694)\t0.49519195389358545\n",
      "  (2, 342014)\t0.323005494619789\n",
      "  (2, 310964)\t0.1822107854668903\n",
      "  (2, 281751)\t0.3900979709092207\n",
      "  (2, 204318)\t0.2276951158020374\n",
      "  (2, 169772)\t0.16886125117481474\n",
      "  (2, 161552)\t0.18593237751726607\n",
      "  (2, 160088)\t0.3818610683532291\n",
      "  (2, 142584)\t0.20559736546629873\n",
      "  (2, 126375)\t0.3000588010130276\n",
      "  (2, 123455)\t0.2398126310301309\n",
      "  (2, 97522)\t0.265620818931066\n",
      "  (2, 82342)\t0.34743589384491386\n",
      "  (2, 45391)\t0.2616496937144713\n",
      "  (3, 346683)\t0.2554925940690815\n",
      "  (3, 294998)\t0.2928090894762417\n",
      "  (3, 294753)\t0.2757229769585521\n",
      "  (3, 268991)\t0.48892927780921697\n",
      "  (3, 259329)\t0.3949570760233513\n",
      "  :\t:\n",
      "  (319994, 54058)\t0.3505687681868391\n",
      "  (319994, 51409)\t0.20674887423991917\n",
      "  (319994, 45009)\t0.4166586644226829\n",
      "  (319995, 357954)\t0.41990727309440223\n",
      "  (319995, 321785)\t0.5716433226406247\n",
      "  (319995, 47211)\t0.7049126142174007\n",
      "  (319996, 339692)\t0.3544907125277065\n",
      "  (319996, 276350)\t0.685585198175408\n",
      "  (319996, 227494)\t0.4719211114806587\n",
      "  (319996, 43497)\t0.4261452044940142\n",
      "  (319997, 305854)\t0.36465759195955927\n",
      "  (319997, 251472)\t0.7581849927991181\n",
      "  (319997, 170450)\t0.5405371007807482\n",
      "  (319998, 339692)\t0.31395947406602454\n",
      "  (319998, 276976)\t0.32141474953653454\n",
      "  (319998, 254139)\t0.2579746479993411\n",
      "  (319998, 121579)\t0.551634958044847\n",
      "  (319998, 93281)\t0.33399291865969916\n",
      "  (319998, 80763)\t0.23914404164030406\n",
      "  (319998, 47173)\t0.3952485758631478\n",
      "  (319998, 29590)\t0.3198552522443516\n",
      "  (319999, 329390)\t0.65233025774362\n",
      "  (319999, 170450)\t0.40370835248266174\n",
      "  (319999, 115852)\t0.4847501934705426\n",
      "  (319999, 40379)\t0.4201214715985707\n"
     ]
    }
   ],
   "source": [
    "print(X_test)"
   ]
  },
  {
   "cell_type": "code",
   "execution_count": 38,
   "id": "110161db",
   "metadata": {},
   "outputs": [],
   "source": [
    "#Logistic Regression\n",
    "model = LogisticRegression(max_iter=1000)"
   ]
  },
  {
   "cell_type": "code",
   "execution_count": 39,
   "id": "565f16a9",
   "metadata": {},
   "outputs": [
    {
     "data": {
      "text/html": [
       "<style>#sk-container-id-1 {\n",
       "  /* Definition of color scheme common for light and dark mode */\n",
       "  --sklearn-color-text: black;\n",
       "  --sklearn-color-line: gray;\n",
       "  /* Definition of color scheme for unfitted estimators */\n",
       "  --sklearn-color-unfitted-level-0: #fff5e6;\n",
       "  --sklearn-color-unfitted-level-1: #f6e4d2;\n",
       "  --sklearn-color-unfitted-level-2: #ffe0b3;\n",
       "  --sklearn-color-unfitted-level-3: chocolate;\n",
       "  /* Definition of color scheme for fitted estimators */\n",
       "  --sklearn-color-fitted-level-0: #f0f8ff;\n",
       "  --sklearn-color-fitted-level-1: #d4ebff;\n",
       "  --sklearn-color-fitted-level-2: #b3dbfd;\n",
       "  --sklearn-color-fitted-level-3: cornflowerblue;\n",
       "\n",
       "  /* Specific color for light theme */\n",
       "  --sklearn-color-text-on-default-background: var(--sg-text-color, var(--theme-code-foreground, var(--jp-content-font-color1, black)));\n",
       "  --sklearn-color-background: var(--sg-background-color, var(--theme-background, var(--jp-layout-color0, white)));\n",
       "  --sklearn-color-border-box: var(--sg-text-color, var(--theme-code-foreground, var(--jp-content-font-color1, black)));\n",
       "  --sklearn-color-icon: #696969;\n",
       "\n",
       "  @media (prefers-color-scheme: dark) {\n",
       "    /* Redefinition of color scheme for dark theme */\n",
       "    --sklearn-color-text-on-default-background: var(--sg-text-color, var(--theme-code-foreground, var(--jp-content-font-color1, white)));\n",
       "    --sklearn-color-background: var(--sg-background-color, var(--theme-background, var(--jp-layout-color0, #111)));\n",
       "    --sklearn-color-border-box: var(--sg-text-color, var(--theme-code-foreground, var(--jp-content-font-color1, white)));\n",
       "    --sklearn-color-icon: #878787;\n",
       "  }\n",
       "}\n",
       "\n",
       "#sk-container-id-1 {\n",
       "  color: var(--sklearn-color-text);\n",
       "}\n",
       "\n",
       "#sk-container-id-1 pre {\n",
       "  padding: 0;\n",
       "}\n",
       "\n",
       "#sk-container-id-1 input.sk-hidden--visually {\n",
       "  border: 0;\n",
       "  clip: rect(1px 1px 1px 1px);\n",
       "  clip: rect(1px, 1px, 1px, 1px);\n",
       "  height: 1px;\n",
       "  margin: -1px;\n",
       "  overflow: hidden;\n",
       "  padding: 0;\n",
       "  position: absolute;\n",
       "  width: 1px;\n",
       "}\n",
       "\n",
       "#sk-container-id-1 div.sk-dashed-wrapped {\n",
       "  border: 1px dashed var(--sklearn-color-line);\n",
       "  margin: 0 0.4em 0.5em 0.4em;\n",
       "  box-sizing: border-box;\n",
       "  padding-bottom: 0.4em;\n",
       "  background-color: var(--sklearn-color-background);\n",
       "}\n",
       "\n",
       "#sk-container-id-1 div.sk-container {\n",
       "  /* jupyter's `normalize.less` sets `[hidden] { display: none; }`\n",
       "     but bootstrap.min.css set `[hidden] { display: none !important; }`\n",
       "     so we also need the `!important` here to be able to override the\n",
       "     default hidden behavior on the sphinx rendered scikit-learn.org.\n",
       "     See: https://github.com/scikit-learn/scikit-learn/issues/21755 */\n",
       "  display: inline-block !important;\n",
       "  position: relative;\n",
       "}\n",
       "\n",
       "#sk-container-id-1 div.sk-text-repr-fallback {\n",
       "  display: none;\n",
       "}\n",
       "\n",
       "div.sk-parallel-item,\n",
       "div.sk-serial,\n",
       "div.sk-item {\n",
       "  /* draw centered vertical line to link estimators */\n",
       "  background-image: linear-gradient(var(--sklearn-color-text-on-default-background), var(--sklearn-color-text-on-default-background));\n",
       "  background-size: 2px 100%;\n",
       "  background-repeat: no-repeat;\n",
       "  background-position: center center;\n",
       "}\n",
       "\n",
       "/* Parallel-specific style estimator block */\n",
       "\n",
       "#sk-container-id-1 div.sk-parallel-item::after {\n",
       "  content: \"\";\n",
       "  width: 100%;\n",
       "  border-bottom: 2px solid var(--sklearn-color-text-on-default-background);\n",
       "  flex-grow: 1;\n",
       "}\n",
       "\n",
       "#sk-container-id-1 div.sk-parallel {\n",
       "  display: flex;\n",
       "  align-items: stretch;\n",
       "  justify-content: center;\n",
       "  background-color: var(--sklearn-color-background);\n",
       "  position: relative;\n",
       "}\n",
       "\n",
       "#sk-container-id-1 div.sk-parallel-item {\n",
       "  display: flex;\n",
       "  flex-direction: column;\n",
       "}\n",
       "\n",
       "#sk-container-id-1 div.sk-parallel-item:first-child::after {\n",
       "  align-self: flex-end;\n",
       "  width: 50%;\n",
       "}\n",
       "\n",
       "#sk-container-id-1 div.sk-parallel-item:last-child::after {\n",
       "  align-self: flex-start;\n",
       "  width: 50%;\n",
       "}\n",
       "\n",
       "#sk-container-id-1 div.sk-parallel-item:only-child::after {\n",
       "  width: 0;\n",
       "}\n",
       "\n",
       "/* Serial-specific style estimator block */\n",
       "\n",
       "#sk-container-id-1 div.sk-serial {\n",
       "  display: flex;\n",
       "  flex-direction: column;\n",
       "  align-items: center;\n",
       "  background-color: var(--sklearn-color-background);\n",
       "  padding-right: 1em;\n",
       "  padding-left: 1em;\n",
       "}\n",
       "\n",
       "\n",
       "/* Toggleable style: style used for estimator/Pipeline/ColumnTransformer box that is\n",
       "clickable and can be expanded/collapsed.\n",
       "- Pipeline and ColumnTransformer use this feature and define the default style\n",
       "- Estimators will overwrite some part of the style using the `sk-estimator` class\n",
       "*/\n",
       "\n",
       "/* Pipeline and ColumnTransformer style (default) */\n",
       "\n",
       "#sk-container-id-1 div.sk-toggleable {\n",
       "  /* Default theme specific background. It is overwritten whether we have a\n",
       "  specific estimator or a Pipeline/ColumnTransformer */\n",
       "  background-color: var(--sklearn-color-background);\n",
       "}\n",
       "\n",
       "/* Toggleable label */\n",
       "#sk-container-id-1 label.sk-toggleable__label {\n",
       "  cursor: pointer;\n",
       "  display: block;\n",
       "  width: 100%;\n",
       "  margin-bottom: 0;\n",
       "  padding: 0.5em;\n",
       "  box-sizing: border-box;\n",
       "  text-align: center;\n",
       "}\n",
       "\n",
       "#sk-container-id-1 label.sk-toggleable__label-arrow:before {\n",
       "  /* Arrow on the left of the label */\n",
       "  content: \"▸\";\n",
       "  float: left;\n",
       "  margin-right: 0.25em;\n",
       "  color: var(--sklearn-color-icon);\n",
       "}\n",
       "\n",
       "#sk-container-id-1 label.sk-toggleable__label-arrow:hover:before {\n",
       "  color: var(--sklearn-color-text);\n",
       "}\n",
       "\n",
       "/* Toggleable content - dropdown */\n",
       "\n",
       "#sk-container-id-1 div.sk-toggleable__content {\n",
       "  max-height: 0;\n",
       "  max-width: 0;\n",
       "  overflow: hidden;\n",
       "  text-align: left;\n",
       "  /* unfitted */\n",
       "  background-color: var(--sklearn-color-unfitted-level-0);\n",
       "}\n",
       "\n",
       "#sk-container-id-1 div.sk-toggleable__content.fitted {\n",
       "  /* fitted */\n",
       "  background-color: var(--sklearn-color-fitted-level-0);\n",
       "}\n",
       "\n",
       "#sk-container-id-1 div.sk-toggleable__content pre {\n",
       "  margin: 0.2em;\n",
       "  border-radius: 0.25em;\n",
       "  color: var(--sklearn-color-text);\n",
       "  /* unfitted */\n",
       "  background-color: var(--sklearn-color-unfitted-level-0);\n",
       "}\n",
       "\n",
       "#sk-container-id-1 div.sk-toggleable__content.fitted pre {\n",
       "  /* unfitted */\n",
       "  background-color: var(--sklearn-color-fitted-level-0);\n",
       "}\n",
       "\n",
       "#sk-container-id-1 input.sk-toggleable__control:checked~div.sk-toggleable__content {\n",
       "  /* Expand drop-down */\n",
       "  max-height: 200px;\n",
       "  max-width: 100%;\n",
       "  overflow: auto;\n",
       "}\n",
       "\n",
       "#sk-container-id-1 input.sk-toggleable__control:checked~label.sk-toggleable__label-arrow:before {\n",
       "  content: \"▾\";\n",
       "}\n",
       "\n",
       "/* Pipeline/ColumnTransformer-specific style */\n",
       "\n",
       "#sk-container-id-1 div.sk-label input.sk-toggleable__control:checked~label.sk-toggleable__label {\n",
       "  color: var(--sklearn-color-text);\n",
       "  background-color: var(--sklearn-color-unfitted-level-2);\n",
       "}\n",
       "\n",
       "#sk-container-id-1 div.sk-label.fitted input.sk-toggleable__control:checked~label.sk-toggleable__label {\n",
       "  background-color: var(--sklearn-color-fitted-level-2);\n",
       "}\n",
       "\n",
       "/* Estimator-specific style */\n",
       "\n",
       "/* Colorize estimator box */\n",
       "#sk-container-id-1 div.sk-estimator input.sk-toggleable__control:checked~label.sk-toggleable__label {\n",
       "  /* unfitted */\n",
       "  background-color: var(--sklearn-color-unfitted-level-2);\n",
       "}\n",
       "\n",
       "#sk-container-id-1 div.sk-estimator.fitted input.sk-toggleable__control:checked~label.sk-toggleable__label {\n",
       "  /* fitted */\n",
       "  background-color: var(--sklearn-color-fitted-level-2);\n",
       "}\n",
       "\n",
       "#sk-container-id-1 div.sk-label label.sk-toggleable__label,\n",
       "#sk-container-id-1 div.sk-label label {\n",
       "  /* The background is the default theme color */\n",
       "  color: var(--sklearn-color-text-on-default-background);\n",
       "}\n",
       "\n",
       "/* On hover, darken the color of the background */\n",
       "#sk-container-id-1 div.sk-label:hover label.sk-toggleable__label {\n",
       "  color: var(--sklearn-color-text);\n",
       "  background-color: var(--sklearn-color-unfitted-level-2);\n",
       "}\n",
       "\n",
       "/* Label box, darken color on hover, fitted */\n",
       "#sk-container-id-1 div.sk-label.fitted:hover label.sk-toggleable__label.fitted {\n",
       "  color: var(--sklearn-color-text);\n",
       "  background-color: var(--sklearn-color-fitted-level-2);\n",
       "}\n",
       "\n",
       "/* Estimator label */\n",
       "\n",
       "#sk-container-id-1 div.sk-label label {\n",
       "  font-family: monospace;\n",
       "  font-weight: bold;\n",
       "  display: inline-block;\n",
       "  line-height: 1.2em;\n",
       "}\n",
       "\n",
       "#sk-container-id-1 div.sk-label-container {\n",
       "  text-align: center;\n",
       "}\n",
       "\n",
       "/* Estimator-specific */\n",
       "#sk-container-id-1 div.sk-estimator {\n",
       "  font-family: monospace;\n",
       "  border: 1px dotted var(--sklearn-color-border-box);\n",
       "  border-radius: 0.25em;\n",
       "  box-sizing: border-box;\n",
       "  margin-bottom: 0.5em;\n",
       "  /* unfitted */\n",
       "  background-color: var(--sklearn-color-unfitted-level-0);\n",
       "}\n",
       "\n",
       "#sk-container-id-1 div.sk-estimator.fitted {\n",
       "  /* fitted */\n",
       "  background-color: var(--sklearn-color-fitted-level-0);\n",
       "}\n",
       "\n",
       "/* on hover */\n",
       "#sk-container-id-1 div.sk-estimator:hover {\n",
       "  /* unfitted */\n",
       "  background-color: var(--sklearn-color-unfitted-level-2);\n",
       "}\n",
       "\n",
       "#sk-container-id-1 div.sk-estimator.fitted:hover {\n",
       "  /* fitted */\n",
       "  background-color: var(--sklearn-color-fitted-level-2);\n",
       "}\n",
       "\n",
       "/* Specification for estimator info (e.g. \"i\" and \"?\") */\n",
       "\n",
       "/* Common style for \"i\" and \"?\" */\n",
       "\n",
       ".sk-estimator-doc-link,\n",
       "a:link.sk-estimator-doc-link,\n",
       "a:visited.sk-estimator-doc-link {\n",
       "  float: right;\n",
       "  font-size: smaller;\n",
       "  line-height: 1em;\n",
       "  font-family: monospace;\n",
       "  background-color: var(--sklearn-color-background);\n",
       "  border-radius: 1em;\n",
       "  height: 1em;\n",
       "  width: 1em;\n",
       "  text-decoration: none !important;\n",
       "  margin-left: 1ex;\n",
       "  /* unfitted */\n",
       "  border: var(--sklearn-color-unfitted-level-1) 1pt solid;\n",
       "  color: var(--sklearn-color-unfitted-level-1);\n",
       "}\n",
       "\n",
       ".sk-estimator-doc-link.fitted,\n",
       "a:link.sk-estimator-doc-link.fitted,\n",
       "a:visited.sk-estimator-doc-link.fitted {\n",
       "  /* fitted */\n",
       "  border: var(--sklearn-color-fitted-level-1) 1pt solid;\n",
       "  color: var(--sklearn-color-fitted-level-1);\n",
       "}\n",
       "\n",
       "/* On hover */\n",
       "div.sk-estimator:hover .sk-estimator-doc-link:hover,\n",
       ".sk-estimator-doc-link:hover,\n",
       "div.sk-label-container:hover .sk-estimator-doc-link:hover,\n",
       ".sk-estimator-doc-link:hover {\n",
       "  /* unfitted */\n",
       "  background-color: var(--sklearn-color-unfitted-level-3);\n",
       "  color: var(--sklearn-color-background);\n",
       "  text-decoration: none;\n",
       "}\n",
       "\n",
       "div.sk-estimator.fitted:hover .sk-estimator-doc-link.fitted:hover,\n",
       ".sk-estimator-doc-link.fitted:hover,\n",
       "div.sk-label-container:hover .sk-estimator-doc-link.fitted:hover,\n",
       ".sk-estimator-doc-link.fitted:hover {\n",
       "  /* fitted */\n",
       "  background-color: var(--sklearn-color-fitted-level-3);\n",
       "  color: var(--sklearn-color-background);\n",
       "  text-decoration: none;\n",
       "}\n",
       "\n",
       "/* Span, style for the box shown on hovering the info icon */\n",
       ".sk-estimator-doc-link span {\n",
       "  display: none;\n",
       "  z-index: 9999;\n",
       "  position: relative;\n",
       "  font-weight: normal;\n",
       "  right: .2ex;\n",
       "  padding: .5ex;\n",
       "  margin: .5ex;\n",
       "  width: min-content;\n",
       "  min-width: 20ex;\n",
       "  max-width: 50ex;\n",
       "  color: var(--sklearn-color-text);\n",
       "  box-shadow: 2pt 2pt 4pt #999;\n",
       "  /* unfitted */\n",
       "  background: var(--sklearn-color-unfitted-level-0);\n",
       "  border: .5pt solid var(--sklearn-color-unfitted-level-3);\n",
       "}\n",
       "\n",
       ".sk-estimator-doc-link.fitted span {\n",
       "  /* fitted */\n",
       "  background: var(--sklearn-color-fitted-level-0);\n",
       "  border: var(--sklearn-color-fitted-level-3);\n",
       "}\n",
       "\n",
       ".sk-estimator-doc-link:hover span {\n",
       "  display: block;\n",
       "}\n",
       "\n",
       "/* \"?\"-specific style due to the `<a>` HTML tag */\n",
       "\n",
       "#sk-container-id-1 a.estimator_doc_link {\n",
       "  float: right;\n",
       "  font-size: 1rem;\n",
       "  line-height: 1em;\n",
       "  font-family: monospace;\n",
       "  background-color: var(--sklearn-color-background);\n",
       "  border-radius: 1rem;\n",
       "  height: 1rem;\n",
       "  width: 1rem;\n",
       "  text-decoration: none;\n",
       "  /* unfitted */\n",
       "  color: var(--sklearn-color-unfitted-level-1);\n",
       "  border: var(--sklearn-color-unfitted-level-1) 1pt solid;\n",
       "}\n",
       "\n",
       "#sk-container-id-1 a.estimator_doc_link.fitted {\n",
       "  /* fitted */\n",
       "  border: var(--sklearn-color-fitted-level-1) 1pt solid;\n",
       "  color: var(--sklearn-color-fitted-level-1);\n",
       "}\n",
       "\n",
       "/* On hover */\n",
       "#sk-container-id-1 a.estimator_doc_link:hover {\n",
       "  /* unfitted */\n",
       "  background-color: var(--sklearn-color-unfitted-level-3);\n",
       "  color: var(--sklearn-color-background);\n",
       "  text-decoration: none;\n",
       "}\n",
       "\n",
       "#sk-container-id-1 a.estimator_doc_link.fitted:hover {\n",
       "  /* fitted */\n",
       "  background-color: var(--sklearn-color-fitted-level-3);\n",
       "}\n",
       "</style><div id=\"sk-container-id-1\" class=\"sk-top-container\"><div class=\"sk-text-repr-fallback\"><pre>LogisticRegression(max_iter=1000)</pre><b>In a Jupyter environment, please rerun this cell to show the HTML representation or trust the notebook. <br />On GitHub, the HTML representation is unable to render, please try loading this page with nbviewer.org.</b></div><div class=\"sk-container\" hidden><div class=\"sk-item\"><div class=\"sk-estimator fitted sk-toggleable\"><input class=\"sk-toggleable__control sk-hidden--visually\" id=\"sk-estimator-id-1\" type=\"checkbox\" checked><label for=\"sk-estimator-id-1\" class=\"sk-toggleable__label fitted sk-toggleable__label-arrow fitted\">&nbsp;&nbsp;LogisticRegression<a class=\"sk-estimator-doc-link fitted\" rel=\"noreferrer\" target=\"_blank\" href=\"https://scikit-learn.org/1.4/modules/generated/sklearn.linear_model.LogisticRegression.html\">?<span>Documentation for LogisticRegression</span></a><span class=\"sk-estimator-doc-link fitted\">i<span>Fitted</span></span></label><div class=\"sk-toggleable__content fitted\"><pre>LogisticRegression(max_iter=1000)</pre></div> </div></div></div></div>"
      ],
      "text/plain": [
       "LogisticRegression(max_iter=1000)"
      ]
     },
     "execution_count": 39,
     "metadata": {},
     "output_type": "execute_result"
    }
   ],
   "source": [
    "model.fit(X_train, y_train)"
   ]
  },
  {
   "cell_type": "code",
   "execution_count": 40,
   "id": "af81ab2b",
   "metadata": {},
   "outputs": [],
   "source": [
    "X_train_prediction = model.predict(X_train)\n",
    "training_data_accuracy = accuracy_score(y_train, X_train_prediction)"
   ]
  },
  {
   "cell_type": "code",
   "execution_count": 41,
   "id": "434c3de6",
   "metadata": {},
   "outputs": [
    {
     "name": "stdout",
     "output_type": "stream",
     "text": [
      "Accuracy score on training data :  0.80246875\n"
     ]
    }
   ],
   "source": [
    "print('Accuracy score on training data : ' , training_data_accuracy)"
   ]
  },
  {
   "cell_type": "code",
   "execution_count": 42,
   "id": "520e8963",
   "metadata": {},
   "outputs": [],
   "source": [
    "#Evaluating the model (Accuracy Score on test data)\n",
    "\n",
    "X_test_prediction = model.predict(X_test)\n",
    "test_data_accuracy = accuracy_score(y_test, X_test_prediction)"
   ]
  },
  {
   "cell_type": "code",
   "execution_count": 43,
   "id": "99c099df",
   "metadata": {},
   "outputs": [
    {
     "name": "stdout",
     "output_type": "stream",
     "text": [
      "Accuracy score on test data :  0.7838625\n"
     ]
    }
   ],
   "source": [
    "print('Accuracy score on test data : ' , test_data_accuracy)"
   ]
  },
  {
   "cell_type": "code",
   "execution_count": 52,
   "id": "f48797de",
   "metadata": {},
   "outputs": [
    {
     "name": "stdout",
     "output_type": "stream",
     "text": [
      "Precision: 0.7753255365324331\n",
      "Recall: 0.8012846871768033\n",
      "F1-score: 0.7880914009792087\n",
      "Confusion Matrix:\n",
      " [[122225  37269]\n",
      " [ 31895 128611]]\n"
     ]
    }
   ],
   "source": [
    "conf_matrix = confusion_matrix(y_test, X_test_prediction)\n",
    "precision = precision_score(y_test, X_test_prediction, average='binary')  # for binary classification\n",
    "recall = recall_score(y_test, X_test_prediction, average='binary')\n",
    "f1 = f1_score(y_test, X_test_prediction, average='binary')\n",
    "conf_matrix = confusion_matrix(y_test, X_test_prediction)\n",
    "\n",
    "print('Precision:', precision)\n",
    "print('Recall:', recall)\n",
    "print('F1-score:', f1)\n",
    "print('Confusion Matrix:\\n', conf_matrix)"
   ]
  },
  {
   "cell_type": "code",
   "execution_count": 54,
   "id": "3ece8e84",
   "metadata": {
    "scrolled": true
   },
   "outputs": [
    {
     "name": "stdout",
     "output_type": "stream",
     "text": [
      "Classification Report:\n",
      "               precision    recall  f1-score   support\n",
      "\n",
      "           0       0.79      0.77      0.78    159494\n",
      "           1       0.78      0.80      0.79    160506\n",
      "\n",
      "    accuracy                           0.78    320000\n",
      "   macro avg       0.78      0.78      0.78    320000\n",
      "weighted avg       0.78      0.78      0.78    320000\n",
      "\n"
     ]
    }
   ],
   "source": [
    "# Classification Report\n",
    "classification_rep = classification_report(y_test, X_test_prediction)\n",
    "print('Classification Report:\\n', classification_rep)"
   ]
  },
  {
   "cell_type": "code",
   "execution_count": 73,
   "id": "b437cab7",
   "metadata": {},
   "outputs": [
    {
     "name": "stdout",
     "output_type": "stream",
     "text": [
      "\n",
      "Prediction for the new input: [0]\n"
     ]
    }
   ],
   "source": [
    "# Making predictions for a new input\n",
    "new_input = [\"I dont like swimming\"]\n",
    "new_input_transformed = vectorizer.transform(new_input)  \n",
    "prediction_new = model.predict(new_input_transformed)\n",
    "print('\\nPrediction for the new input:', prediction_new)"
   ]
  },
  {
   "cell_type": "code",
   "execution_count": 45,
   "id": "66a6c196",
   "metadata": {},
   "outputs": [],
   "source": [
    "from sklearn.naive_bayes import MultinomialNB\n",
    "\n",
    "# Training Naive Bayes model\n",
    "nb_model = MultinomialNB()\n",
    "nb_model.fit(X_train, y_train)\n",
    "\n",
    "# Model evaluation on training data\n",
    "X_train_nb_prediction = nb_model.predict(X_train)\n",
    "training_data_nb_accuracy = accuracy_score(y_train, X_train_nb_prediction)\n"
   ]
  },
  {
   "cell_type": "code",
   "execution_count": 46,
   "id": "23c81cca",
   "metadata": {},
   "outputs": [
    {
     "name": "stdout",
     "output_type": "stream",
     "text": [
      "Naive Bayes - Accuracy score on training data: 0.80934375\n"
     ]
    }
   ],
   "source": [
    "print('Naive Bayes - Accuracy score on training data:', training_data_nb_accuracy)\n"
   ]
  },
  {
   "cell_type": "code",
   "execution_count": 48,
   "id": "04fd1dc5",
   "metadata": {},
   "outputs": [
    {
     "name": "stdout",
     "output_type": "stream",
     "text": [
      "Naive Bayes - Accuracy score on test data: 0.764875\n"
     ]
    }
   ],
   "source": [
    "# Model evaluation on test data\n",
    "X_test_nb_prediction = nb_model.predict(X_test)\n",
    "test_data_nb_accuracy = accuracy_score(y_test, X_test_nb_prediction)\n",
    "print('Naive Bayes - Accuracy score on test data:', test_data_nb_accuracy)"
   ]
  },
  {
   "cell_type": "code",
   "execution_count": 50,
   "id": "df96ee6d",
   "metadata": {},
   "outputs": [
    {
     "name": "stdout",
     "output_type": "stream",
     "text": [
      "Naive Bayes - Classification Report on test data:\n",
      "               precision    recall  f1-score   support\n",
      "\n",
      "           0       0.75      0.79      0.77    159494\n",
      "           1       0.78      0.74      0.76    160506\n",
      "\n",
      "    accuracy                           0.76    320000\n",
      "   macro avg       0.77      0.76      0.76    320000\n",
      "weighted avg       0.77      0.76      0.76    320000\n",
      "\n",
      "Naive Bayes - Confusion Matrix on test data:\n",
      " [[125451  34043]\n",
      " [ 41197 119309]]\n"
     ]
    }
   ],
   "source": [
    "from sklearn.metrics import confusion_matrix\n",
    "# Additional metrics for evaluation\n",
    "print('Naive Bayes - Classification Report on test data:\\n', classification_report(y_test, X_test_nb_prediction))\n",
    "print('Naive Bayes - Confusion Matrix on test data:\\n', confusion_matrix(y_test, X_test_nb_prediction))"
   ]
  },
  {
   "cell_type": "code",
   "execution_count": 78,
   "id": "e349b326",
   "metadata": {},
   "outputs": [
    {
     "name": "stdout",
     "output_type": "stream",
     "text": [
      "Naive Bayes - Precision:  0.778007459961396\n",
      "Naive Bayes - Recall:  0.7433304673968575\n",
      "Naive Bayes - F1 Score:  0.7602737543729967\n"
     ]
    }
   ],
   "source": [
    "nb_test_prediction = nb_model.predict(X_test)  \n",
    "nb_precision = precision_score(y_test, nb_test_prediction, average='binary')\n",
    "nb_recall = recall_score(y_test, nb_test_prediction, average='binary')\n",
    "nb_f1 = f1_score(y_test, nb_test_prediction, average='binary')\n",
    "\n",
    "print('Naive Bayes - Precision: ', nb_precision)\n",
    "print('Naive Bayes - Recall: ', nb_recall)\n",
    "print('Naive Bayes - F1 Score: ', nb_f1)"
   ]
  },
  {
   "cell_type": "code",
   "execution_count": 51,
   "id": "c6a0cc9e",
   "metadata": {},
   "outputs": [
    {
     "name": "stdout",
     "output_type": "stream",
     "text": [
      "\n",
      "Prediction using Naive Bayes for the new input: [1]\n"
     ]
    }
   ],
   "source": [
    "# Make predictions for a new input\n",
    "new_input = [\"I really like doing my work!\"]\n",
    "new_input_transformed = vectorizer.transform(new_input) \n",
    "nb_prediction_new = nb_model.predict(new_input_transformed)\n",
    "\n",
    "print('\\nPrediction using Naive Bayes for the new input:', nb_prediction_new)"
   ]
  },
  {
   "cell_type": "code",
   "execution_count": 87,
   "id": "f59e3c54",
   "metadata": {
    "scrolled": true
   },
   "outputs": [
    {
     "ename": "ImportError",
     "evalue": "cannot import name 'plot_confusion_matrix' from 'sklearn.metrics' (C:\\Users\\saura\\AppData\\Roaming\\Python\\Python311\\site-packages\\sklearn\\metrics\\__init__.py)",
     "output_type": "error",
     "traceback": [
      "\u001b[1;31m---------------------------------------------------------------------------\u001b[0m",
      "\u001b[1;31mImportError\u001b[0m                               Traceback (most recent call last)",
      "Cell \u001b[1;32mIn[87], line 2\u001b[0m\n\u001b[0;32m      1\u001b[0m \u001b[38;5;28;01mimport\u001b[39;00m \u001b[38;5;21;01msklearn\u001b[39;00m\n\u001b[1;32m----> 2\u001b[0m \u001b[38;5;28;01mfrom\u001b[39;00m \u001b[38;5;21;01msklearn\u001b[39;00m\u001b[38;5;21;01m.\u001b[39;00m\u001b[38;5;21;01mmetrics\u001b[39;00m \u001b[38;5;28;01mimport\u001b[39;00m plot_confusion_matrix, plot_roc_curve\n\u001b[0;32m      3\u001b[0m \u001b[38;5;66;03m# Plotting confusion matrix for Logistic Regression\u001b[39;00m\n\u001b[0;32m      4\u001b[0m plot_confusion_matrix(model, X_test, y_test)\n",
      "\u001b[1;31mImportError\u001b[0m: cannot import name 'plot_confusion_matrix' from 'sklearn.metrics' (C:\\Users\\saura\\AppData\\Roaming\\Python\\Python311\\site-packages\\sklearn\\metrics\\__init__.py)"
     ]
    }
   ],
   "source": [
    "import sklearn\n",
    "from sklearn.metrics import plot_confusion_matrix, plot_roc_curve\n",
    "# Plotting confusion matrix for Logistic Regression\n",
    "plot_confusion_matrix(model, X_test, y_test)\n",
    "plt.title('Confusion Matrix for Logistic Regression')\n",
    "plt.show()\n"
   ]
  },
  {
   "cell_type": "code",
   "execution_count": 81,
   "id": "5b83e2a0",
   "metadata": {},
   "outputs": [
    {
     "name": "stdout",
     "output_type": "stream",
     "text": [
      "Requirement already satisfied: scikit-learn in c:\\users\\saura\\appdata\\roaming\\python\\python311\\site-packages (1.4.0)\n",
      "Collecting scikit-learn\n",
      "  Obtaining dependency information for scikit-learn from https://files.pythonhosted.org/packages/7b/0e/25d6b5678ed3c7e12bc94d047d0e9492e89cc78b7ea0034ac0f1cf2ff304/scikit_learn-1.4.1.post1-cp311-cp311-win_amd64.whl.metadata\n",
      "  Downloading scikit_learn-1.4.1.post1-cp311-cp311-win_amd64.whl.metadata (11 kB)\n",
      "Requirement already satisfied: numpy<2.0,>=1.19.5 in c:\\users\\saura\\anaconda3\\lib\\site-packages (from scikit-learn) (1.24.3)\n",
      "Requirement already satisfied: scipy>=1.6.0 in c:\\users\\saura\\anaconda3\\lib\\site-packages (from scikit-learn) (1.11.1)\n",
      "Requirement already satisfied: joblib>=1.2.0 in c:\\users\\saura\\anaconda3\\lib\\site-packages (from scikit-learn) (1.2.0)\n",
      "Requirement already satisfied: threadpoolctl>=2.0.0 in c:\\users\\saura\\appdata\\roaming\\python\\python311\\site-packages (from scikit-learn) (3.2.0)\n",
      "Downloading scikit_learn-1.4.1.post1-cp311-cp311-win_amd64.whl (10.6 MB)\n",
      "   ---------------------------------------- 0.0/10.6 MB ? eta -:--:--\n",
      "   ---------------------------------------- 0.0/10.6 MB ? eta -:--:--\n",
      "   ---------------------------------------- 0.0/10.6 MB 660.6 kB/s eta 0:00:17\n",
      "    --------------------------------------- 0.2/10.6 MB 1.7 MB/s eta 0:00:07\n",
      "   - -------------------------------------- 0.3/10.6 MB 2.3 MB/s eta 0:00:05\n",
      "   - -------------------------------------- 0.5/10.6 MB 2.3 MB/s eta 0:00:05\n",
      "   -- ------------------------------------- 0.6/10.6 MB 2.4 MB/s eta 0:00:05\n",
      "   -- ------------------------------------- 0.7/10.6 MB 2.5 MB/s eta 0:00:05\n",
      "   -- ------------------------------------- 0.7/10.6 MB 2.4 MB/s eta 0:00:05\n",
      "   --- ------------------------------------ 0.8/10.6 MB 2.5 MB/s eta 0:00:04\n",
      "   --- ------------------------------------ 1.0/10.6 MB 2.6 MB/s eta 0:00:04\n",
      "   ---- ----------------------------------- 1.2/10.6 MB 2.7 MB/s eta 0:00:04\n",
      "   ---- ----------------------------------- 1.3/10.6 MB 2.6 MB/s eta 0:00:04\n",
      "   ----- ---------------------------------- 1.5/10.6 MB 2.8 MB/s eta 0:00:04\n",
      "   ----- ---------------------------------- 1.6/10.6 MB 2.8 MB/s eta 0:00:04\n",
      "   ----- ---------------------------------- 1.6/10.6 MB 2.8 MB/s eta 0:00:04\n",
      "   ------ --------------------------------- 1.6/10.6 MB 2.5 MB/s eta 0:00:04\n",
      "   ------ --------------------------------- 1.7/10.6 MB 2.5 MB/s eta 0:00:04\n",
      "   ------ --------------------------------- 1.8/10.6 MB 2.5 MB/s eta 0:00:04\n",
      "   ------ --------------------------------- 1.8/10.6 MB 2.5 MB/s eta 0:00:04\n",
      "   ------- -------------------------------- 1.9/10.6 MB 2.4 MB/s eta 0:00:04\n",
      "   ------- -------------------------------- 2.1/10.6 MB 2.4 MB/s eta 0:00:04\n",
      "   -------- ------------------------------- 2.2/10.6 MB 2.4 MB/s eta 0:00:04\n",
      "   -------- ------------------------------- 2.3/10.6 MB 2.4 MB/s eta 0:00:04\n",
      "   --------- ------------------------------ 2.4/10.6 MB 2.5 MB/s eta 0:00:04\n",
      "   --------- ------------------------------ 2.6/10.6 MB 2.5 MB/s eta 0:00:04\n",
      "   ---------- ----------------------------- 2.8/10.6 MB 2.6 MB/s eta 0:00:04\n",
      "   ----------- ---------------------------- 3.0/10.6 MB 2.7 MB/s eta 0:00:03\n",
      "   ----------- ---------------------------- 3.1/10.6 MB 2.7 MB/s eta 0:00:03\n",
      "   ----------- ---------------------------- 3.2/10.6 MB 2.7 MB/s eta 0:00:03\n",
      "   ------------ --------------------------- 3.4/10.6 MB 2.8 MB/s eta 0:00:03\n",
      "   ------------- -------------------------- 3.5/10.6 MB 2.8 MB/s eta 0:00:03\n",
      "   -------------- ------------------------- 3.7/10.6 MB 2.9 MB/s eta 0:00:03\n",
      "   -------------- ------------------------- 3.8/10.6 MB 2.8 MB/s eta 0:00:03\n",
      "   -------------- ------------------------- 4.0/10.6 MB 2.8 MB/s eta 0:00:03\n",
      "   --------------- ------------------------ 4.1/10.6 MB 2.9 MB/s eta 0:00:03\n",
      "   --------------- ------------------------ 4.2/10.6 MB 2.9 MB/s eta 0:00:03\n",
      "   ---------------- ----------------------- 4.3/10.6 MB 2.9 MB/s eta 0:00:03\n",
      "   ---------------- ----------------------- 4.5/10.6 MB 2.9 MB/s eta 0:00:03\n",
      "   ----------------- ---------------------- 4.6/10.6 MB 2.9 MB/s eta 0:00:03\n",
      "   ----------------- ---------------------- 4.6/10.6 MB 2.9 MB/s eta 0:00:03\n",
      "   ----------------- ---------------------- 4.8/10.6 MB 2.8 MB/s eta 0:00:03\n",
      "   ------------------ --------------------- 4.8/10.6 MB 2.8 MB/s eta 0:00:03\n",
      "   ------------------ --------------------- 4.9/10.6 MB 2.8 MB/s eta 0:00:03\n",
      "   ------------------ --------------------- 5.0/10.6 MB 2.8 MB/s eta 0:00:03\n",
      "   ------------------- -------------------- 5.1/10.6 MB 2.7 MB/s eta 0:00:03\n",
      "   ------------------- -------------------- 5.2/10.6 MB 2.8 MB/s eta 0:00:02\n",
      "   ------------------- -------------------- 5.3/10.6 MB 2.7 MB/s eta 0:00:02\n",
      "   -------------------- ------------------- 5.4/10.6 MB 2.7 MB/s eta 0:00:02\n",
      "   -------------------- ------------------- 5.5/10.6 MB 2.7 MB/s eta 0:00:02\n",
      "   --------------------- ------------------ 5.7/10.6 MB 2.8 MB/s eta 0:00:02\n",
      "   --------------------- ------------------ 5.8/10.6 MB 2.8 MB/s eta 0:00:02\n",
      "   ---------------------- ----------------- 6.0/10.6 MB 2.8 MB/s eta 0:00:02\n",
      "   ---------------------- ----------------- 6.1/10.6 MB 2.8 MB/s eta 0:00:02\n",
      "   ----------------------- ---------------- 6.3/10.6 MB 2.8 MB/s eta 0:00:02\n",
      "   ------------------------ --------------- 6.4/10.6 MB 2.8 MB/s eta 0:00:02\n",
      "   ------------------------ --------------- 6.5/10.6 MB 2.8 MB/s eta 0:00:02\n",
      "   ------------------------- -------------- 6.7/10.6 MB 2.8 MB/s eta 0:00:02\n",
      "   ------------------------- -------------- 6.7/10.6 MB 2.8 MB/s eta 0:00:02\n",
      "   ------------------------- -------------- 6.8/10.6 MB 2.8 MB/s eta 0:00:02\n",
      "   ------------------------- -------------- 6.8/10.6 MB 2.8 MB/s eta 0:00:02\n",
      "   ------------------------- -------------- 6.9/10.6 MB 2.8 MB/s eta 0:00:02\n",
      "   -------------------------- ------------- 7.0/10.6 MB 2.7 MB/s eta 0:00:02\n",
      "   -------------------------- ------------- 7.1/10.6 MB 2.7 MB/s eta 0:00:02\n",
      "   --------------------------- ------------ 7.2/10.6 MB 2.7 MB/s eta 0:00:02\n",
      "   --------------------------- ------------ 7.3/10.6 MB 2.7 MB/s eta 0:00:02\n",
      "   --------------------------- ------------ 7.4/10.6 MB 2.7 MB/s eta 0:00:02\n",
      "   ---------------------------- ----------- 7.5/10.6 MB 2.7 MB/s eta 0:00:02\n",
      "   ---------------------------- ----------- 7.6/10.6 MB 2.7 MB/s eta 0:00:02\n",
      "   ---------------------------- ----------- 7.7/10.6 MB 2.7 MB/s eta 0:00:02\n",
      "   ----------------------------- ---------- 7.8/10.6 MB 2.7 MB/s eta 0:00:02\n",
      "   ----------------------------- ---------- 7.8/10.6 MB 2.7 MB/s eta 0:00:02\n",
      "   ----------------------------- ---------- 8.0/10.6 MB 2.7 MB/s eta 0:00:02\n",
      "   ------------------------------ --------- 8.1/10.6 MB 2.7 MB/s eta 0:00:01\n",
      "   ------------------------------ --------- 8.1/10.6 MB 2.7 MB/s eta 0:00:01\n",
      "   ------------------------------ --------- 8.2/10.6 MB 2.6 MB/s eta 0:00:01\n",
      "   ------------------------------- -------- 8.3/10.6 MB 2.6 MB/s eta 0:00:01\n",
      "   ------------------------------- -------- 8.4/10.6 MB 2.6 MB/s eta 0:00:01\n",
      "   ------------------------------- -------- 8.4/10.6 MB 2.6 MB/s eta 0:00:01\n",
      "   ------------------------------- -------- 8.4/10.6 MB 2.6 MB/s eta 0:00:01\n",
      "   ------------------------------- -------- 8.4/10.6 MB 2.6 MB/s eta 0:00:01\n",
      "   -------------------------------- ------- 8.6/10.6 MB 2.6 MB/s eta 0:00:01\n",
      "   -------------------------------- ------- 8.7/10.6 MB 2.5 MB/s eta 0:00:01\n",
      "   -------------------------------- ------- 8.8/10.6 MB 2.5 MB/s eta 0:00:01\n",
      "   --------------------------------- ------ 8.9/10.6 MB 2.5 MB/s eta 0:00:01\n",
      "   --------------------------------- ------ 9.0/10.6 MB 2.5 MB/s eta 0:00:01\n",
      "   --------------------------------- ------ 9.0/10.6 MB 2.5 MB/s eta 0:00:01\n",
      "   ---------------------------------- ----- 9.2/10.6 MB 2.5 MB/s eta 0:00:01\n",
      "   ---------------------------------- ----- 9.2/10.6 MB 2.5 MB/s eta 0:00:01\n",
      "   ----------------------------------- ---- 9.4/10.6 MB 2.5 MB/s eta 0:00:01\n",
      "   ----------------------------------- ---- 9.5/10.6 MB 2.5 MB/s eta 0:00:01\n",
      "   ------------------------------------ --- 9.7/10.6 MB 2.5 MB/s eta 0:00:01\n",
      "   ------------------------------------ --- 9.8/10.6 MB 2.5 MB/s eta 0:00:01\n",
      "   ------------------------------------- -- 10.0/10.6 MB 2.5 MB/s eta 0:00:01\n",
      "   -------------------------------------- - 10.1/10.6 MB 2.5 MB/s eta 0:00:01\n",
      "   -------------------------------------- - 10.3/10.6 MB 2.6 MB/s eta 0:00:01\n",
      "   ---------------------------------------  10.4/10.6 MB 2.6 MB/s eta 0:00:01\n",
      "   ---------------------------------------  10.6/10.6 MB 2.6 MB/s eta 0:00:01\n",
      "   ---------------------------------------  10.6/10.6 MB 2.6 MB/s eta 0:00:01\n",
      "   ---------------------------------------- 10.6/10.6 MB 2.5 MB/s eta 0:00:00\n",
      "Installing collected packages: scikit-learn\n",
      "  Attempting uninstall: scikit-learn\n",
      "    Found existing installation: scikit-learn 1.4.0\n",
      "    Uninstalling scikit-learn-1.4.0:\n",
      "      Successfully uninstalled scikit-learn-1.4.0\n"
     ]
    },
    {
     "name": "stderr",
     "output_type": "stream",
     "text": [
      "ERROR: Could not install packages due to an OSError: [WinError 5] Access is denied: 'C:\\\\Users\\\\saura\\\\AppData\\\\Roaming\\\\Python\\\\Python311\\\\site-packages\\\\~klearn\\\\.libs\\\\msvcp140.dll'\n",
      "Consider using the `--user` option or check the permissions.\n",
      "\n"
     ]
    }
   ],
   "source": [
    "!pip install --upgrade scikit-learn"
   ]
  },
  {
   "cell_type": "code",
   "execution_count": 83,
   "id": "63591331",
   "metadata": {},
   "outputs": [
    {
     "ename": "ImportError",
     "evalue": "cannot import name 'plot_confusion_matrix' from 'sklearn.metrics' (C:\\Users\\saura\\AppData\\Roaming\\Python\\Python311\\site-packages\\sklearn\\metrics\\__init__.py)",
     "output_type": "error",
     "traceback": [
      "\u001b[1;31m---------------------------------------------------------------------------\u001b[0m",
      "\u001b[1;31mImportError\u001b[0m                               Traceback (most recent call last)",
      "Cell \u001b[1;32mIn[83], line 1\u001b[0m\n\u001b[1;32m----> 1\u001b[0m \u001b[38;5;28;01mfrom\u001b[39;00m \u001b[38;5;21;01msklearn\u001b[39;00m\u001b[38;5;21;01m.\u001b[39;00m\u001b[38;5;21;01mmetrics\u001b[39;00m \u001b[38;5;28;01mimport\u001b[39;00m plot_confusion_matrix, plot_roc_curve\n\u001b[0;32m      2\u001b[0m \u001b[38;5;28;01mimport\u001b[39;00m \u001b[38;5;21;01mseaborn\u001b[39;00m \u001b[38;5;28;01mas\u001b[39;00m \u001b[38;5;21;01msns\u001b[39;00m\n\u001b[0;32m      4\u001b[0m \u001b[38;5;66;03m# Assuming 'model' is your trained Logistic Regression model\u001b[39;00m\n\u001b[0;32m      5\u001b[0m \u001b[38;5;66;03m# Also assuming 'X_test' and 'y_test' are your test data and labels\u001b[39;00m\n\u001b[0;32m      6\u001b[0m \n\u001b[0;32m      7\u001b[0m \u001b[38;5;66;03m# Get predictions\u001b[39;00m\n",
      "\u001b[1;31mImportError\u001b[0m: cannot import name 'plot_confusion_matrix' from 'sklearn.metrics' (C:\\Users\\saura\\AppData\\Roaming\\Python\\Python311\\site-packages\\sklearn\\metrics\\__init__.py)"
     ]
    }
   ],
   "source": [
    "from sklearn.metrics import plot_confusion_matrix, plot_roc_curve\n",
    "import seaborn as sns\n",
    "\n",
    "# Assuming 'model' is your trained Logistic Regression model\n",
    "# Also assuming 'X_test' and 'y_test' are your test data and labels\n",
    "\n",
    "# Get predictions\n",
    "y_pred = model.predict(X_test)\n",
    "\n",
    "# Calculate confusion matrix\n",
    "cm = confusion_matrix(y_test, y_pred)\n",
    "\n",
    "# Plot confusion matrix using seaborn\n",
    "sns.heatmap(cm, annot=True, fmt=\"d\", cmap=\"Blues\")\n",
    "plt.title('Confusion Matrix for Logistic Regression')\n",
    "plt.show()"
   ]
  },
  {
   "cell_type": "code",
   "execution_count": 85,
   "id": "5ec4794f",
   "metadata": {},
   "outputs": [
    {
     "name": "stdout",
     "output_type": "stream",
     "text": [
      "1.4.0\n"
     ]
    }
   ],
   "source": [
    "import sklearn\n",
    "print(sklearn.__version__)"
   ]
  },
  {
   "cell_type": "code",
   "execution_count": 86,
   "id": "a8675518",
   "metadata": {},
   "outputs": [
    {
     "name": "stdout",
     "output_type": "stream",
     "text": [
      "Requirement already satisfied: scikit-learn in c:\\users\\saura\\anaconda3\\lib\\site-packages (1.3.0)\n",
      "Collecting scikit-learn\n",
      "  Obtaining dependency information for scikit-learn from https://files.pythonhosted.org/packages/7b/0e/25d6b5678ed3c7e12bc94d047d0e9492e89cc78b7ea0034ac0f1cf2ff304/scikit_learn-1.4.1.post1-cp311-cp311-win_amd64.whl.metadata\n",
      "  Using cached scikit_learn-1.4.1.post1-cp311-cp311-win_amd64.whl.metadata (11 kB)\n",
      "Requirement already satisfied: numpy<2.0,>=1.19.5 in c:\\users\\saura\\anaconda3\\lib\\site-packages (from scikit-learn) (1.24.3)\n",
      "Requirement already satisfied: scipy>=1.6.0 in c:\\users\\saura\\anaconda3\\lib\\site-packages (from scikit-learn) (1.11.1)\n",
      "Requirement already satisfied: joblib>=1.2.0 in c:\\users\\saura\\anaconda3\\lib\\site-packages (from scikit-learn) (1.2.0)\n",
      "Requirement already satisfied: threadpoolctl>=2.0.0 in c:\\users\\saura\\appdata\\roaming\\python\\python311\\site-packages (from scikit-learn) (3.2.0)\n",
      "Using cached scikit_learn-1.4.1.post1-cp311-cp311-win_amd64.whl (10.6 MB)\n",
      "Installing collected packages: scikit-learn\n",
      "  Attempting uninstall: scikit-learn\n",
      "    Found existing installation: scikit-learn 1.3.0\n",
      "    Uninstalling scikit-learn-1.3.0:\n",
      "      Successfully uninstalled scikit-learn-1.3.0\n",
      "Successfully installed scikit-learn-1.4.1.post1\n",
      "Note: you may need to restart the kernel to use updated packages.\n"
     ]
    }
   ],
   "source": [
    "pip install --upgrade scikit-learn"
   ]
  },
  {
   "cell_type": "code",
   "execution_count": null,
   "id": "aeda6d35",
   "metadata": {},
   "outputs": [],
   "source": []
  }
 ],
 "metadata": {
  "kernelspec": {
   "display_name": "Python 3 (ipykernel)",
   "language": "python",
   "name": "python3"
  },
  "language_info": {
   "codemirror_mode": {
    "name": "ipython",
    "version": 3
   },
   "file_extension": ".py",
   "mimetype": "text/x-python",
   "name": "python",
   "nbconvert_exporter": "python",
   "pygments_lexer": "ipython3",
   "version": "3.11.5"
  }
 },
 "nbformat": 4,
 "nbformat_minor": 5
}
